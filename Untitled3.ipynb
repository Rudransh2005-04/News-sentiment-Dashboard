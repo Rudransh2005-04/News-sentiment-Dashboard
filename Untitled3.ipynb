{
 "cells": [
  {
   "cell_type": "code",
   "execution_count": 4,
   "id": "cea49ac4-99e0-4bb2-b3fd-2bc31594af16",
   "metadata": {},
   "outputs": [
    {
     "name": "stdout",
     "output_type": "stream",
     "text": [
      "✅ Fetched 98 articles about Tesla\n"
     ]
    }
   ],
   "source": [
    "import requests\n",
    "import datetime\n",
    "\n",
    "# Your API key from newsapi.org\n",
    "API_KEY = \"e14d1cd033e2488fb57555c65c428a1a\"\n",
    "\n",
    "# Company you want news for\n",
    "company_name = \"Tesla\"\n",
    "\n",
    "# Build the API request\n",
    "url = (\n",
    "    f\"https://newsapi.org/v2/everything?\"\n",
    "    f\"q={company_name}&\"\n",
    "    f\"sortBy=publishedAt&\"\n",
    "    f\"language=en&\"\n",
    "    f\"apiKey={API_KEY}\"\n",
    ")\n",
    "\n",
    "# Make the request\n",
    "response = requests.get(url)\n",
    "\n",
    "# Parse JSON response\n",
    "if response.status_code == 200:\n",
    "    news_data = response.json()\n",
    "    articles = news_data[\"articles\"]\n",
    "    print(f\"✅ Fetched {len(articles)} articles about {company_name}\")\n",
    "else:\n",
    "    print(f\"❌ API error: {response.status_code} - {response.text}\")\n"
   ]
  },
  {
   "cell_type": "code",
   "execution_count": null,
   "id": "f87f25a7-5876-4469-8e89-c92edd6a46aa",
   "metadata": {},
   "outputs": [],
   "source": []
  }
 ],
 "metadata": {
  "kernelspec": {
   "display_name": "Python 3 (ipykernel)",
   "language": "python",
   "name": "python3"
  },
  "language_info": {
   "codemirror_mode": {
    "name": "ipython",
    "version": 3
   },
   "file_extension": ".py",
   "mimetype": "text/x-python",
   "name": "python",
   "nbconvert_exporter": "python",
   "pygments_lexer": "ipython3",
   "version": "3.10.18"
  }
 },
 "nbformat": 4,
 "nbformat_minor": 5
}
