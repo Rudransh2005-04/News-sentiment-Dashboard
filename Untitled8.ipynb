{
 "cells": [
  {
   "cell_type": "code",
   "execution_count": 1,
   "id": "6e8d9fea-e225-4c51-86c0-eb9dd5f12ca7",
   "metadata": {},
   "outputs": [
    {
     "ename": "NameError",
     "evalue": "name 'sentiment_results' is not defined",
     "output_type": "error",
     "traceback": [
      "\u001b[1;31m---------------------------------------------------------------------------\u001b[0m",
      "\u001b[1;31mNameError\u001b[0m                                 Traceback (most recent call last)",
      "Cell \u001b[1;32mIn[1], line 4\u001b[0m\n\u001b[0;32m      1\u001b[0m \u001b[38;5;28;01mimport\u001b[39;00m\u001b[38;5;250m \u001b[39m\u001b[38;5;21;01mpandas\u001b[39;00m\u001b[38;5;250m \u001b[39m\u001b[38;5;28;01mas\u001b[39;00m\u001b[38;5;250m \u001b[39m\u001b[38;5;21;01mpd\u001b[39;00m\n\u001b[0;32m      3\u001b[0m \u001b[38;5;66;03m# Convert to DataFrame\u001b[39;00m\n\u001b[1;32m----> 4\u001b[0m df \u001b[38;5;241m=\u001b[39m pd\u001b[38;5;241m.\u001b[39mDataFrame(\u001b[43msentiment_results\u001b[49m)\n\u001b[0;32m      6\u001b[0m \u001b[38;5;66;03m# Save to Excel\u001b[39;00m\n\u001b[0;32m      7\u001b[0m excel_path \u001b[38;5;241m=\u001b[39m \u001b[38;5;124m\"\u001b[39m\u001b[38;5;124mTesla_Sentiment_Results.xlsx\u001b[39m\u001b[38;5;124m\"\u001b[39m\n",
      "\u001b[1;31mNameError\u001b[0m: name 'sentiment_results' is not defined"
     ]
    }
   ],
   "source": [
    "import pandas as pd\n",
    "\n",
    "# Convert to DataFrame\n",
    "df = pd.DataFrame(sentiment_results)\n",
    "\n",
    "# Save to Excel\n",
    "excel_path = \"Tesla_Sentiment_Results.xlsx\"\n",
    "df.to_excel(excel_path, index=False)\n",
    "\n",
    "print(f\"✅ Exported sentiment results to: {excel_path}\")\n"
   ]
  },
  {
   "cell_type": "code",
   "execution_count": 2,
   "id": "1ea2b890-1c74-4db9-b350-9a90135af15a",
   "metadata": {},
   "outputs": [
    {
     "name": "stdout",
     "output_type": "stream",
     "text": [
      "✅ Fetched, analyzed, and exported 98 articles to Tesla_Sentiment_Results.xlsx\n"
     ]
    }
   ],
   "source": [
    "import requests\n",
    "from textblob import TextBlob\n",
    "import pandas as pd\n",
    "\n",
    "API_KEY = \"e14d1cd033e2488fb57555c65c428a1a\"  # Replace this with your actual NewsAPI key\n",
    "company_name = \"Tesla\"\n",
    "\n",
    "# Fetch articles\n",
    "url = (\n",
    "    f\"https://newsapi.org/v2/everything?\"\n",
    "    f\"q={company_name}&\"\n",
    "    f\"sortBy=publishedAt&\"\n",
    "    f\"language=en&\"\n",
    "    f\"apiKey={API_KEY}\"\n",
    ")\n",
    "\n",
    "response = requests.get(url)\n",
    "sentiment_results = []\n",
    "\n",
    "if response.status_code == 200:\n",
    "    news_data = response.json()\n",
    "    articles = news_data[\"articles\"]\n",
    "    \n",
    "    for article in articles:\n",
    "        headline = article['title']\n",
    "        published_at = article['publishedAt'].replace('T', ' ').replace('Z', '')\n",
    "        source = article['source']['name']\n",
    "        url = article['url']\n",
    "\n",
    "        blob = TextBlob(headline)\n",
    "        polarity = blob.sentiment.polarity\n",
    "\n",
    "        sentiment_results.append({\n",
    "            'company': company_name,\n",
    "            'headline': headline,\n",
    "            'published_at': published_at,\n",
    "            'source': source,\n",
    "            'url': url,\n",
    "            'sentiment_score': polarity\n",
    "        })\n",
    "\n",
    "    # Export to Excel\n",
    "    df = pd.DataFrame(sentiment_results)\n",
    "    excel_path = f\"{company_name}_Sentiment_Results.xlsx\"\n",
    "    df.to_excel(excel_path, index=False)\n",
    "    print(f\"✅ Fetched, analyzed, and exported {len(df)} articles to {excel_path}\")\n",
    "\n",
    "else:\n",
    "    print(f\"❌ API error: {response.status_code} - {response.text}\")\n"
   ]
  },
  {
   "cell_type": "code",
   "execution_count": null,
   "id": "70da1bc4-4f1f-4938-aa26-7b9c027c7ea4",
   "metadata": {},
   "outputs": [],
   "source": []
  }
 ],
 "metadata": {
  "kernelspec": {
   "display_name": "Python 3 (ipykernel)",
   "language": "python",
   "name": "python3"
  },
  "language_info": {
   "codemirror_mode": {
    "name": "ipython",
    "version": 3
   },
   "file_extension": ".py",
   "mimetype": "text/x-python",
   "name": "python",
   "nbconvert_exporter": "python",
   "pygments_lexer": "ipython3",
   "version": "3.10.18"
  }
 },
 "nbformat": 4,
 "nbformat_minor": 5
}
